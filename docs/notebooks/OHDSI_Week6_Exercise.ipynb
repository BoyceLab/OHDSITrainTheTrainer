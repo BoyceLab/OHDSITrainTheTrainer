{
 "cells": [
  {
   "cell_type": "markdown",
   "metadata": {
    "id": "044FiV_tC10V"
   },
   "source": [
    "# **OHDSI Week 6 Exercise: Medications and Cohorts with Nested Criteria**"
   ]
  },
  {
   "cell_type": "markdown",
   "metadata": {
    "id": "N9fx9N3sDDzK"
   },
   "source": [
    "Reminder: We are going to explore building a cohort made up of several concept sets.  There are several ways that someone might be defined as having diabetes, and we will explore 3 of those over the first 3 weeks.  For our purposes in this course, we will consider any patients as having Type 2 diabetes if they:\n",
    "\n",
    "- A.\tHave an HbA1c measurement, fasting or random glucose measurement in a range that suggests diabetes\n",
    "- B.\tHave a diagnosis of Type 2 diabetes and NOT a diagnosis of Type I diabetes.\n",
    "- C.\tAre on a medication for glycemic control\n",
    "\n",
    "This workbook will focus on C.\n",
    "\n",
    "The Atlas tool can be accessed by XXXXLINK.\n",
    "\n",
    "Note: You will need to be inside XXXXENVIRONMENT to use this link as this in our secure environment.\n",
    "  "
   ]
  },
  {
   "cell_type": "markdown",
   "metadata": {
    "id": "9AxRrUuiC_qc"
   },
   "source": [
    "## Initialize your workbook"
   ]
  },
  {
   "cell_type": "code",
   "execution_count": null,
   "metadata": {
    "id": "-bF-09_ZCuEJ"
   },
   "outputs": [],
   "source": [
    "#Enter your student ID Here for participation and feedback.\n",
    "student_id=\"\"\n",
    "\n",
    "import requests\n",
    "def sub_ans(team,question_num,answer):\n",
    "    url='https://XXXX'\n",
    "    data={'class':'ohdsi24',\n",
    "         'module':6,\n",
    "         'team':team,\n",
    "         'question_num':question_num,\n",
    "         'answer_num':answer}\n",
    "    x=requests.post(url,data=data)\n",
    "    if x.status_code==200:\n",
    "        return True\n",
    "    else:\n",
    "        return False\n",
    "\n",
    "#Test if you entered your student ID\n",
    "if student_id != '':\n",
    "  print(\"Success {}, you are ready to go\".format(student_id))"
   ]
  },
  {
   "cell_type": "markdown",
   "metadata": {
    "id": "EWrQccgUIGoP"
   },
   "source": [
    "You should by now have a cohort definition from earlier exercises named T2DM_`studentid`.  You should have 5 concepts sets from the last two classes.\n",
    "\n",
    "*Please note the concept ids and the descendant relationships*\n",
    "\n",
    "\n",
    "\n",
    "\n"
   ]
  },
  {
   "cell_type": "markdown",
   "metadata": {
    "id": "_Zhd-DkIRIwy"
   },
   "source": [
    "## Type 2 Diabetes Mellitus Medications\n",
    "\n",
    "Create the following two concept sets.  You can name them however you like.\n",
    "\n",
    "- Type 2 rx\n",
    "List: 1529331,1530014,1594973,1583722,1597756,1560171,1559684,1503297,1510202,1502826,1525215,1516766,1547504,1580747,1502809,1515249\n",
    "- Type 1 rx\n",
    "List: 1531601,1567198,1516976,1502905,1544838,1550023,1513876,1517998, 19122121\n",
    "\n",
    "<table><Tr><td><img src=\"https://bidsclassroomfigures.blob.core.windows.net/figures/ohdsi_5_01.png\" width=800></td></tr><Tr><td><img src=\"https://bidsclassroomfigures.blob.core.windows.net/figures/ohdsi_5_02.png\" width=800></td></tr></table>"
   ]
  },
  {
   "cell_type": "markdown",
   "metadata": {
    "id": "n1vvcp_VRi3V"
   },
   "source": [
    "## Be sure to clear your cohort definitions and inclusion criteria.  It should now look like the following.\n",
    "\n",
    "<Tr><td><img src=\"https://bidsclassroomfigures.blob.core.windows.net/figures/ohdsi_5_05.png\" width=600></td></tr>\n",
    "\n",
    "## Q1: How many patients have an entry event of either a type 2 dx or a type 2 rx?"
   ]
  },
  {
   "cell_type": "code",
   "execution_count": null,
   "metadata": {
    "id": "fQPASoMxJSR1"
   },
   "outputs": [],
   "source": [
    "sub_ans(student_id,1,#YourAnswer)"
   ]
  },
  {
   "cell_type": "markdown",
   "metadata": {
    "id": "3pcLGThKR8Mh"
   },
   "source": [
    "<Tr><td><img src=\"https://bidsclassroomfigures.blob.core.windows.net/figures/ohdsi_5_04.png\" width=2000></td></tr>\n",
    "\n",
    "##Q2: How many patients have an entry event of either a type 2 dx or type 2 rx AND have no prescriptions for type 1 diabetes?"
   ]
  },
  {
   "cell_type": "code",
   "execution_count": null,
   "metadata": {
    "id": "IIxOowOgSQUk"
   },
   "outputs": [],
   "source": [
    "sub_ans(student_id,2,#YourAnswer)"
   ]
  },
  {
   "cell_type": "markdown",
   "metadata": {
    "id": "wgCG918WY2L2"
   },
   "source": [
    "<Tr><td><img src=\"https://bidsclassroomfigures.blob.core.windows.net/figures/ohdsi_5_08.png\" width=1000></td></tr>\n",
    "\n",
    "In this question we are starting the cohort entry and exclusion from scratch. Delete prior criteria and define cohort entry events as per the image.\n",
    "\n",
    "Let's add a filter on the type 2 prescription.\n",
    "- Add an attribute\n",
    "- Select nested criteria\n",
    "- Select drug exposure\n",
    "\n",
    "## Q3: How many patients received a type 2 prescriptions before a type 1 prescription?"
   ]
  },
  {
   "cell_type": "code",
   "execution_count": null,
   "metadata": {
    "id": "uhtGiXx3Y2uM"
   },
   "outputs": [],
   "source": [
    "sub_ans(student_id,3,#YourAnswer)"
   ]
  },
  {
   "cell_type": "markdown",
   "metadata": {
    "id": "m5rdQJmmSPgf"
   },
   "source": [
    "<Tr><td><img src=\"https://bidsclassroomfigures.blob.core.windows.net/figures/ohdsi_5_06.png\" width=1000></td></tr>\n",
    "\n",
    "Note: Check the screenshots of earlier questions to define cohort entry events and Type 1 Diabetes Rx exclusion criteria. Then add the \"no type 1 dx\" exclusion criterion as per the image.\n",
    "\n",
    "## Q4: How many patients have an entry event of either a type 2 dx or type 2 rx AND have no prescriptions for type 1 diabetes AND have no diagnosis codes for type 1 diabetes?"
   ]
  },
  {
   "cell_type": "code",
   "execution_count": null,
   "metadata": {
    "id": "yikbwVFDSp3T"
   },
   "outputs": [],
   "source": [
    "sub_ans(student_id,4,#YourAnswer)"
   ]
  },
  {
   "cell_type": "markdown",
   "metadata": {
    "id": "WSm7N57cSs-l"
   },
   "source": [
    "Let's change our initial entry event while keeping our inclusion criteria.\n",
    "\n",
    "We are going to add an attribute to the type 2 dx condition occurrence.  Add a nested criteria and then add a drug exposure to a type 2 medication. Note that there is no separate medication criteria -- this is different from our prior questions.\n",
    "\n",
    "\n",
    "<Tr><td><img src=\"https://bidsclassroomfigures.blob.core.windows.net/figures/ohdsi_5_07.png\" width=1000></td></tr>\n",
    "\n",
    "## Q5: How many patients have both a type 2 dx code AND a type 2 medications in addition to not having either a type 1 dx code or a type 1 rx medication?"
   ]
  },
  {
   "cell_type": "code",
   "execution_count": null,
   "metadata": {
    "id": "klCPo2T2TFeN"
   },
   "outputs": [],
   "source": [
    "sub_ans(student_id,5,#YourAnswer)"
   ]
  },
  {
   "cell_type": "markdown",
   "metadata": {
    "id": "U9uabw4zV1d5"
   },
   "source": [
    "Here is an official phenotype for the type 2 diabetes\n",
    "\n",
    "https://www.phekb.org/phenotype/type-2-diabetes-mellitus\n",
    "\n",
    "\n",
    "<img src=\"https://www.phekb.org/sites/phenotype/files/content/t2d_001.png\">\n",
    "\n",
    "##Q6:  Which pathway did we just develop?\n",
    "\n",
    "- a. No T1DM DX > No T2DM Dx > T2DM Med > Abnormal Lab\n",
    "- b. No T1DM DX > T2DM Dx > No T1DM Med > No T2DM Med > Abnormal Lab\n",
    "- c. No T1DM DX > T2DM Dx > No T1DM Med > T2DM Med\n",
    "- d. No T1DM DX > T2DM Dx > T1DM Med > T2DM Med > T2 Rx < T1 Rx\n",
    "- e. No T1DM DX > T2DM Dx > T1DM Med > No T2DM Med > 2x T2DM Dx\n",
    "\n",
    "Your answer should be a, b, c, d, or e in quotes.\n"
   ]
  },
  {
   "cell_type": "code",
   "execution_count": null,
   "metadata": {
    "id": "lMqm0-RXXRrS"
   },
   "outputs": [],
   "source": [
    "sub_ans(student_id,6,\"YourAnswer_letter\")"
   ]
  },
  {
   "cell_type": "markdown",
   "metadata": {
    "id": "8QOsCMBkQIxP"
   },
   "source": [
    "# **Grade Checker - Check your Progress**\n",
    "\n",
    "Please [click this link](https://XXXXXXXXXX) to check your progress on the assignment."
   ]
  }
 ],
 "metadata": {
  "colab": {
   "provenance": []
  },
  "kernelspec": {
   "display_name": "Python 3",
   "name": "python3"
  },
  "language_info": {
   "name": "python"
  }
 },
 "nbformat": 4,
 "nbformat_minor": 0
}
