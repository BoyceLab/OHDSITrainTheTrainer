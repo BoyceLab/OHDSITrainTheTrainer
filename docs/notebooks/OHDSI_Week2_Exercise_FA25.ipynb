{
  "cells": [
    {
      "cell_type": "markdown",
      "metadata": {
        "id": "UGwi6AWzove8"
      },
      "source": [
        "\n",
        "# OHDSI Week 2 Exercise:  Athena and vocabulary searching\n",
        "\n",
        "**ASSIGNMENTS**\n",
        "\n",
        "Exercise 1: Athena and vocabulary search\n",
        "\n",
        "Introduction\n",
        "\n",
        "Athena is an automated system created by OHDSI for creating and maintaining standard vocabularies.  Standard vocabularies are used in health care data for essentially all non-trivial concepts including patient demographics, diagnoses, medications, lab requests and results, etc.  Standard vocabularies also manage the complexity of the relationships between these concepts including things like hierarchies and classifications of diagnoses and disorders and the relationships between dispensable drug products, ingredients, dose, and dose form.  By using standard vocabularies we can be very specific and very precise in the language we use to define and communicate our ideas.  Standard terminologies will play a central role in virtual everything we study in this course.  Athena is the primary tool we will be using to manage and explore standard terminologies.  \n",
        "\n",
        "The Atlas tool can be accessed by XXXXLINK.\n",
        "\n",
        "Note: You will need to be inside XXXXENVIRONMENT to use this link as this in our secure environment.\n",
        "  "
      ]
    },
    {
      "cell_type": "markdown",
      "metadata": {
        "id": "CunsPb3uMTD7"
      },
      "source": [
        "## Note: For this class we will be using Jupyter computational notebooks.  Only a very basic knowledge of Python is needed for this course.  You will need to execute the below code block to initialize the system so you can check your answers.\n",
        "\n",
        "Run this code chunk first! Make sure to create and enter your Student ID inside the quotes where userid='' is below, to get credit for your submission. Press ctrl-enter when the cell is in focus or click the \"run cell\" button in the top left corner of the code cell."
      ]
    },
    {
      "cell_type": "code",
      "execution_count": null,
      "metadata": {
        "id": "wPFirJ7DovfB"
      },
      "outputs": [],
      "source": [
        "# This routine sets up the answer submission feedback\n",
        "import requests\n",
        "import json\n",
        "def sub_ans(team,question_num,answer):\n",
        "    url='XXX Environment'\n",
        "    data={'class':'ohdsi24',\n",
        "         'module': 2,\n",
        "         'team':team,\n",
        "         'question_num':question_num,\n",
        "         'answer_num':answer}\n",
        "    x=requests.post(url,data=data)\n",
        "    response = json.loads(x.text)\n",
        "\n",
        "    if response['success']:\n",
        "          return response['correct']\n",
        "    else:\n",
        "         return response['message']\n",
        "\n",
        "userid='Yourstudentid'\n"
      ]
    },
    {
      "cell_type": "markdown",
      "metadata": {
        "id": "1R3Ij0MWovfC"
      },
      "source": [
        "You can find Athena at https://athena.ohdsi.org/  \n",
        "\n",
        "In this exercise we will become familiar with Athena, Standard terminologies in general, and some of the specific terminologies and terms we will be using as we build our understanding of research methods using OHDSI, OMOP, and the OHDSI tools.  You can learn a lot about how non-standard concepts map to standard concepts, and you can also explore child and ancestor relationships. Athena can be used in a very similar manner to how you used the concept relationship table.   \n",
        "\n"
      ]
    },
    {
      "cell_type": "markdown",
      "metadata": {
        "id": "JfNtuTbaNn5n"
      },
      "source": [
        "In Athena, start by searching for a single condition concept by name (“Diabetes Mellitus”) and then find the standard concept and concept id for this condition.  We will examine the parent child (subsumes) relationships of this concept.  We will find and examine: the types of DM, drugs used to treat type 2 DM, tests associated with Diabetes Mellitus, other conditions related to this concept (such as retinopathy).  This will give us a good start at understanding the types of concepts associated with a condition such as DM as well as an understanding of Athena and how it can be used to define and gain an understanding of how these concepts are related.  \n",
        "\n",
        "Later in this course these concepts and the understanding of how they are related will be used to do things like define a patient cohort (e.g. “patients with Type 2 Diabetes Mellitus”).  This task is often more complicated that it might first appear as health care data sets are almost always just a small fraction of the data available for the patients they include.  For example, data from an EMR system might have information about medications prescribed for DM for a given patient but the patient was diagnosed outside of the system so there is no record of a diagnosis of DM for this individual.   "
      ]
    },
    {
      "cell_type": "markdown",
      "metadata": {
        "id": "ZAy777-3N2pN"
      },
      "source": [
        "## Q1\n",
        "Remember from your learning in section 4 of the Ehden course, that ancestor relationships are indicated with a relationship id ‘Subsumes’ and descendant relationships are indicated with ‘Is a’.  \n",
        "\n",
        "We will start in the condition domain.  Open Athena in a web browser (https://athena.ohdsi.org/) and from the front screen of Athena, select “Conditions”\n",
        "\n",
        "Find the standard concept_id for the clinical finding “Diabetes Mellitus” in the vocabulary.  \n",
        "\n",
        "- a. Enter Diabetes Mellitus in search bar  \n",
        "- b. Filter Concept to Standard (select Concept -> Standard)\n",
        "- c. Look for Class of Disorder (select Class -> Disorder)\n",
        "\n",
        "**Question 1:  What is the ID of the standard concept for the condition “Diabetes mellitus”**\n",
        "\n"
      ]
    },
    {
      "cell_type": "code",
      "execution_count": null,
      "metadata": {
        "colab": {
          "base_uri": "https://localhost:8080/"
        },
        "id": "lNxVjYnAovfD",
        "outputId": "0389d0ef-d5c1-475e-8665-19a49bce7b60"
      },
      "outputs": [],
      "source": [
        "sub_ans(student_id,1,#Answer)"
      ]
    },
    {
      "cell_type": "markdown",
      "metadata": {
        "id": "IXmiF-HHkeIT"
      },
      "source": [
        "## Check your Answers here\n",
        "Once you have answered the first question, click on [this Assignment 1 Review Page](https://bids-class.azurewebsites.net/assignment) to make sure you are getting credit for this assignment.  You will need to login to your student account.\n"
      ]
    },
    {
      "cell_type": "markdown",
      "metadata": {
        "id": "dnWmM8eCovfE"
      },
      "source": [
        "## 2. Click on the link to explore the Diabetes Mellitus (DM) standard concept.  \n",
        "\n",
        "Question: What is the parent condition of Diabetes Mellitus? (Note the “Relationship” column and scroll down until you find the list of “Is a” relationship, e.g. Diabetes Mellitus is a…)?\n",
        "\n",
        "- (a) Disorder of endocrine system\n",
        "- (b) Disorder of glucose metabolism\n",
        "- (c) Neither\n",
        "- (d) Both\n",
        "\n",
        "Enter your answer (a,b,c,d) in the quotes below and press ctrl-enter to see if you got the correct response.\n"
      ]
    },
    {
      "cell_type": "code",
      "execution_count": null,
      "metadata": {
        "colab": {
          "base_uri": "https://localhost:8080/"
        },
        "id": "GfKKxHoMovfE",
        "outputId": "f3a6382b-ca8b-4bdb-9086-f423a5c5c235"
      },
      "outputs": [],
      "source": [
        "sub_ans(student_id,2,\"#Answer\")"
      ]
    },
    {
      "cell_type": "markdown",
      "metadata": {
        "id": "Q_IzfrBEtNg7"
      },
      "source": [
        "## 3.  Diabetes has two major forms: Type 1 Diabetes Mellitus and Type 2 Diabetes Mellitus. Let us now explore Type 1 Diabetes Mellitus.  \n",
        "\n",
        "- a. Staying on the Diabetes Mellitus page, scroll and explore related concepts. Take a look at the different kinds of relationships in the section headings (“Active possibly_equivalent_to inactive (SNOMED)”, “Active same_as (SNOMED)”, etc.).  Some of these may be more interesting.   \n",
        "- b. Scroll down to the “Subsumes” section heading. This section lists all of the possible child concepts of Diabetes Mellitus\n",
        "- c. Note any child concepts that may pertain to Type 1 Diabetes Mellitus.  \n",
        "\n",
        "**Question:  What is the Concept ID of the Type 1 DM concept subsumed by “Diabetes mellitus” **\n",
        "\n",
        "Enter your answer in the cell block below and press ctrl-enter to see if you got it right.\n",
        "\n",
        "\n"
      ]
    },
    {
      "cell_type": "code",
      "execution_count": null,
      "metadata": {
        "colab": {
          "base_uri": "https://localhost:8080/"
        },
        "id": "q2nLYe_dtxU7",
        "outputId": "40118910-f2f8-41fa-b19f-2e91dafa0d66"
      },
      "outputs": [],
      "source": [
        "sub_ans(student_id,3,#Answer)"
      ]
    },
    {
      "cell_type": "markdown",
      "metadata": {
        "id": "oP1MwsOHaOdP"
      },
      "source": []
    },
    {
      "cell_type": "markdown",
      "metadata": {
        "id": "lZg1Wwq1HImX"
      },
      "source": [
        "## 4. Click on the link for the related concept from the answer above. Using the related concepts view look at the parent and child concepts.   \n",
        "\n",
        "**Question:  What is the concept code of the parent concept (scroll down to the “is a” relationship section)?**  "
      ]
    },
    {
      "cell_type": "code",
      "execution_count": null,
      "metadata": {
        "colab": {
          "base_uri": "https://localhost:8080/"
        },
        "id": "yF3i0PcqHSpC",
        "outputId": "9114b781-b52e-4ffd-e593-5a9271abb77c"
      },
      "outputs": [],
      "source": [
        "sub_ans(student_id,4,#Answer)"
      ]
    },
    {
      "cell_type": "markdown",
      "metadata": {
        "id": "W9AR8UusHhZm"
      },
      "source": [
        "Scroll back to the top of the page, click on the Hierarchy button at the top of the Term Connections page. This is a graphical representation of the relationship tree that we have been exploring through the list. You can click on Individual concepts to explore them. You can also-click on and drag the graph to explore other parts of the family tree of Diabetes Mellitus. Click up and down a level to examine in the hierarchical tree the same concepts we had explored earlier in a list form.   "
      ]
    },
    {
      "cell_type": "markdown",
      "metadata": {
        "id": "0BcQR2XdRCfl"
      },
      "source": [
        "## Q5\n",
        "Let us now explore Type 2 Diabetes Mellitus  \n",
        "\n",
        "- a. Going back to the Diabetes Mellitus page, scroll and explore related concepts. Take a look at the different kinds of relationships in the section headings (“Active possibly_equivalent_to inactive (SNOMED)”, “Active same_as inactive (SNOMED)”, etc.) Some of these may be more interesting.   \n",
        "- b. Scroll down to the “Subsumes” section heading. This section lists all of the possible child concepts of Diabetes Mellitus\n",
        "- c. Note any child concepts that may pertain to Type 2 Diabetes Mellitus.\n",
        "\n",
        "**Question:  What is the concept directly subsumed by “Diabetes Mellitus” that relates to Type 2 diabetes**?"
      ]
    },
    {
      "cell_type": "code",
      "execution_count": null,
      "metadata": {
        "colab": {
          "base_uri": "https://localhost:8080/"
        },
        "id": "TCI7Gy__IdBn",
        "outputId": "96bd29b4-dc10-4481-a691-b68ed821e987"
      },
      "outputs": [],
      "source": [
        "sub_ans(student_id,5,#Answer)"
      ]
    },
    {
      "cell_type": "markdown",
      "metadata": {
        "id": "Rn-s6y_yIxic"
      },
      "source": [
        "\n",
        "\n",
        "## 6. Which of the followin is a child concepts(subsumes) of the main Diabetes Mellitus.  \n",
        "\n",
        "- (a) Diabetes Mellitus type 1 without retinopathy\n",
        "- (b) Insulin dependent diabetes mellitus type 1A\n",
        "- (c) latent autoimmune diabetes mellitus in adult\n",
        "- (d) Houssay's syndrome"
      ]
    },
    {
      "cell_type": "code",
      "execution_count": null,
      "metadata": {
        "colab": {
          "base_uri": "https://localhost:8080/"
        },
        "id": "Lx25tWo2I8rt",
        "outputId": "af9be667-9af1-4e8d-9cdc-cfc0325eaeeb"
      },
      "outputs": [],
      "source": [
        "sub_ans(student_id,6,\"#Answer\")"
      ]
    },
    {
      "cell_type": "markdown",
      "metadata": {
        "id": "nOWRFZKJJJHx"
      },
      "source": [
        "## Q7\n",
        "Let us now explore metformin, a common drug used in Type 2 Diabetes Mellitus. Go back to the Athena main page, and select Drug for the domain.\n",
        "\n",
        "- a. Search for metformin.   \n",
        "- b. Use the filter to restrict to standard concepts and classification (both under “Concept”)\n",
        "- c. Restrict to class of ingredient (Under “Class”)\n",
        "- d. Click on metformin (ID=1503297) and explore the page\n",
        "\n",
        "**Question:  What is the name of the Vocabulary that contains this concept? **\n",
        "\n",
        "Note: The answer should be all lowercase."
      ]
    },
    {
      "cell_type": "code",
      "execution_count": null,
      "metadata": {
        "colab": {
          "base_uri": "https://localhost:8080/"
        },
        "id": "iO2rz4dmJdxP",
        "outputId": "1d3ceadd-3725-4839-e35d-6404b66b3d26"
      },
      "outputs": [],
      "source": [
        "sub_ans(student_id,7,\"#Answer\")"
      ]
    },
    {
      "cell_type": "markdown",
      "metadata": {
        "id": "P6ufLnW1JiSc"
      },
      "source": [
        "## 8.  Two laboratory measurements commonly used to define diabetes are Hemoglobin A1c and blood glucose. Go back to the Athena main page, and select Measurements for the domain.  This test will be used later in the course to help us define a diabetes patient cohort in Atlas.   \n",
        "\n",
        "a. Search for “hemoglobin A1c”.   \n",
        "\n",
        "b. Use the filter to restrict to Domain: Measurement, Concept: standard, Class: Lab Tests, and Vocabulary: LOINC\n",
        "\n",
        "c. How many concepts are included?"
      ]
    },
    {
      "cell_type": "code",
      "execution_count": null,
      "metadata": {
        "colab": {
          "base_uri": "https://localhost:8080/"
        },
        "id": "AvUNl586JxH-",
        "outputId": "63c62cff-1743-4eef-ccb7-17b700385483"
      },
      "outputs": [],
      "source": [
        "sub_ans(student_id,8,#Answer)"
      ]
    },
    {
      "cell_type": "markdown",
      "metadata": {
        "id": "MRrZHYXUJ1h9"
      },
      "source": [
        "## 9. Search for “fasting blood glucose”.   \n",
        "\n",
        "- Use the filters as above to restrict to Domain: Measurement, Concept: standard, Class: Lab Tests, and Vocabulary: LOINC\n",
        "- How many concepts are included?\n",
        "\n",
        "Note. Submit answer as an integer number without commas."
      ]
    },
    {
      "cell_type": "code",
      "execution_count": null,
      "metadata": {
        "colab": {
          "base_uri": "https://localhost:8080/"
        },
        "id": "dPjqfMLcKH6J",
        "outputId": "6c429a80-bf42-46d9-d566-541f21bcb763"
      },
      "outputs": [],
      "source": [
        "sub_ans(student_id,9,#Answer)"
      ]
    },
    {
      "cell_type": "markdown",
      "metadata": {
        "id": "M_2UqitwKOAe"
      },
      "source": [
        "##  10.Search for “random blood glucose”.   \n",
        "\n",
        "- Use the filters as above to restrict to Domain: Measurement, Concept: standard, Class: Lab Tests, and Vocabulary: LOINC\n",
        "\n",
        "- How many concepts are included\n",
        "\n",
        "Note. Submit answer as an integer number without commas."
      ]
    },
    {
      "cell_type": "code",
      "execution_count": null,
      "metadata": {
        "colab": {
          "base_uri": "https://localhost:8080/"
        },
        "id": "4j3yPCGcKZd7",
        "outputId": "462e8941-2cd3-456f-eccc-c1f3758388c1"
      },
      "outputs": [],
      "source": [
        "sub_ans(student_id,10,#Answer)"
      ]
    },
    {
      "cell_type": "markdown",
      "metadata": {
        "id": "5nctrutkKfwK"
      },
      "source": [
        "## 11. Retinopathy is a severe complication of diabetes. Go back to the Athena main page and select Conditions for the domain.\n",
        "\n",
        "- a. Search for “diabetic retinopathy”.   \n",
        "- b. Use the filter to restrict to standard concepts\n",
        "- c. Restrict to the class of \"disorder.\" Note that “diabetic retinopathy” is not one of the entities available.\n",
        "- d. Navigate through pages until your find“Retinopathy due to diabetes mellitus”. Click on this concept.\n",
        "\n",
        "**Question:  What is the relationship of this concept to “diabetic retinopathy”?**\n",
        "\n",
        "- (a) Active possibly_equivalent_to inactive (SNOMED)\n",
        "- (b) Active same_as inactive (SNOMED)\n",
        "- (c) Active was_a inactive (SNOMED)\n",
        "- (d) Associated finding of (SNOMED)"
      ]
    },
    {
      "cell_type": "code",
      "execution_count": null,
      "metadata": {
        "colab": {
          "base_uri": "https://localhost:8080/"
        },
        "id": "4mbrcxo8KrvM",
        "outputId": "7d82aad2-d110-4345-f3c6-7769b2ca190d"
      },
      "outputs": [],
      "source": [
        "sub_ans(student_id,11,\"#Answer\")"
      ]
    },
    {
      "cell_type": "markdown",
      "metadata": {
        "id": "GNq7Wzztea0F"
      },
      "source": [
        "\n",
        "## Great job!  You are now a whiz at navigating and searching through OMOP supported vocabularies."
      ]
    }
  ],
  "metadata": {
    "colab": {
      "provenance": []
    },
    "kernelspec": {
      "display_name": "Python 3",
      "language": "python",
      "name": "python3"
    },
    "language_info": {
      "codemirror_mode": {
        "name": "ipython",
        "version": 3
      },
      "file_extension": ".py",
      "mimetype": "text/x-python",
      "name": "python",
      "nbconvert_exporter": "python",
      "pygments_lexer": "ipython3",
      "version": "3.8.5"
    }
  },
  "nbformat": 4,
  "nbformat_minor": 0
}
