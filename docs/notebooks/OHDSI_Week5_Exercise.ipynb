{
 "cells": [
  {
   "cell_type": "markdown",
   "metadata": {
    "id": "044FiV_tC10V"
   },
   "source": [
    "# **OHDSI Week 5 Exercise: Conditions and Medications**"
   ]
  },
  {
   "cell_type": "markdown",
   "metadata": {
    "id": "N9fx9N3sDDzK"
   },
   "source": [
    "Reminder: We are going to explore building a cohort made up of several concept sets.  There are several ways that someone might be defined as having diabetes, and we will explore 3 of those over the first 3 weeks.  For our purposes in this course, we will consider any patients as having Type 2 diabetes if they:\n",
    "\n",
    "- A.\tHave an HbA1c measurement, fasting or random glucose measurement in a range that suggests diabetes\n",
    "- B.\tHave a diagnosis of Type 2 diabetes and NOT a diagnosis of Type I diabetes.\n",
    "- C.\tAre on a medication for glycemic control\n",
    "\n",
    "This workbook will focus on B and C.\n",
    "\n",
    "\n",
    "**Note: You will need to be inside XXXXENVIRONMENT to use this link as this in our secure environment.he Atlas toolcan be accessed from within your XXXXENVIRONMENT using this link. https://atlas-de-id.pm.XXXX**\n",
    "\n"
   ]
  },
  {
   "cell_type": "markdown",
   "metadata": {
    "id": "9AxRrUuiC_qc"
   },
   "source": [
    "## Initialize your workbook"
   ]
  },
  {
   "cell_type": "markdown",
   "metadata": {
    "id": "fy03NXSguwzc"
   },
   "source": []
  },
  {
   "cell_type": "code",
   "execution_count": null,
   "metadata": {
    "id": "-bF-09_ZCuEJ"
   },
   "outputs": [],
   "source": [
    "import requests\n",
    "def sub_ans(team,question_num,answer):\n",
    "    url='https://XXX'\n",
    "    data={'class':'ohdsi24',\n",
    "         'module':5,\n",
    "         'team':team,\n",
    "         'question_num':question_num,\n",
    "         'answer_num':answer}\n",
    "    x=requests.post(url,data=data)\n",
    "    if x.status_code==200:\n",
    "        return True\n",
    "    else:\n",
    "        return False\n",
    "#Enter your student ID Here for participation and feedback.\n",
    "student_id=\"\"\n",
    "if student_id != '':\n",
    "  print(\"Success {}, you are ready to go\".format(student_id))"
   ]
  },
  {
   "cell_type": "markdown",
   "metadata": {
    "id": "EWrQccgUIGoP"
   },
   "source": [
    "You should by now have a cohort definition from earlier exercises named T2DM_`studentid`.  You should have 3 concepts sets and they should look like the following.  You can leave the lab concept sets be.\n",
    "\n",
    "*Please note the concept ids and the descendant relationships*\n",
    "\n",
    "\n",
    "<table><tr><td><img src=\"https://bidsclassroomfigures.blob.core.windows.net/figures/ohdsi_4_01.png\" width=700></td></tr></table>\n",
    "\n",
    "- Open Atlas (https://atlas-de-id.pm.jh.edu/) and after logging in, go to your own T2DM_student cohort.\n",
    "- On a separate tab, open Athena (https://athena.ohdsi.org/) where we will explore concepts as a guide\n",
    "\n",
    "\n",
    "<table>\n",
    "<tr><td><img src=\"https://bidsclassroomfigures.blob.core.windows.net/figures/ohdsi_4_02.png\" width=450></td>\n",
    "<td><table>\n",
    "<tr><td><img src=\"https://bidsclassroomfigures.blob.core.windows.net/figures/ohdsi_4_03.png\" width=600></td>\n",
    "<tr><td><img src=\"https://bidsclassroomfigures.blob.core.windows.net/figures/ohdsi_4_04.png\" width=600></td>\n",
    "</td></tr></table></table>\n",
    "\n",
    "-\tJust below the name of the cohort, there are tabs such as “Definition”, “New cohort” etc.\n",
    "**(COMMON MISTAKE: In the blue vertical strip on the left, you may also see the word “Concept Sets”. Do NOT click there at this time – you may have to find and go back into your cohort. No harm no foul, except a waste of your time.)**\n",
    "- Click the “Concept Sets” tab, then click on the “New Concept Set” button  (Upper left figure)\n",
    "-\tIn the field “Name”, type “Type 1 Diabetes Mellitus Diagnosis” (Note: you can give your concept set any name that can be meaningful to yourself and future readers)\n",
    "-\tOn the left strip, now click Search and search for “Type 1 Diabetes Mellitus”. (Upper right figure)\n",
    "**You should now see a breadcrumb at the top specifying what cohort and concept set you are working in**\n",
    "-\tFilter “Clinical Finding”/”Condition”/”Standard/”  Toggle between “Has Records” filter and arrange by row count. For the Q1, make sure to look at all concepts whether they have some records or zero records (toggle the \"has records off)\n",
    "\n",
    "## Q1 How many concepts are returned?\n",
    "\n",
    "\n"
   ]
  },
  {
   "cell_type": "code",
   "execution_count": null,
   "metadata": {
    "id": "fQPASoMxJSR1"
   },
   "outputs": [],
   "source": [
    "sub_ans(student_id,1,#YourAnswer)"
   ]
  },
  {
   "cell_type": "markdown",
   "metadata": {
    "id": "XUFxLNCaJU9e"
   },
   "source": [
    "### Athena\n",
    "-\tIn Athena, Search Conditions “Type 1 Diabetes Mellitus”,\n",
    "-\tthen filtering Concept: standard; Class: Clinical finding, click on “Type 1 Diabetes Mellitus”\n",
    "-\tAs previously, in the “related concepts” scroll to what this subsumes. Note how some of the conditions in Atlas (previous step, complications with Type 1 Diabetes Mellitus) are not subsumed by Type 1 Diabetes Mellitus.\n",
    "-\tThis motivates us to include the complications of Type 1 diabetes Mellitus as separate concepts in our set in Atlas: just clicking descendants will not be adequate\n",
    "-\tTypically, this would involve discussions within the clinical research team.\n",
    "\n",
    "<table><Tr><td><img src=\"https://bidsclassroomfigures.blob.core.windows.net/figures/ohdsi_4_05.png\" width=600></td></tr></table>\n",
    "\n",
    "## How many standard clinical concepts has Athena found for the search string type 1 diabetes mellitus?\n"
   ]
  },
  {
   "cell_type": "code",
   "execution_count": null,
   "metadata": {
    "id": "8SMfWCvTJ8hP"
   },
   "outputs": [],
   "source": [
    "sub_ans(student_id,2,#YourAnswer)"
   ]
  },
  {
   "cell_type": "markdown",
   "metadata": {
    "id": "kvsj_a3_LObR"
   },
   "source": [
    "## Atlas\n",
    "\n",
    "- That is a lot of concepts.  Good news, we have been given a concept list!\n",
    "-\tIn Atlas, look through the list you have, scrolling through both pages\n",
    "<img src=\"https://bidsclassroomfigures.blob.core.windows.net/figures/ohdsi_4_06.png\" width=600>\n",
    "\n",
    "- Let's add the following list of concept codes by selecting the shopping cart and using the inline filter (as shown above) to identify the codes.\n",
    "- 200687, 201531, 201254, 318712, 377821, 439770, 443412, 443592, 40484648, 42538169\n",
    "\n",
    "You could find each of these concepts, one-by-one, but here is the method to get them all at once as a batch:\n",
    "\n",
    "Let us look at an alternative method to get this list in Atlas, into our concept set.\n",
    "-\tMake sure you are in the “Type 1 Diabetes Mellitus Diagnosis” concept set (click on it)\n",
    "-\tJust above the empty list area and the name of the concept set, there are several buttons, click and make the “Import” button current. You can copy and paste the list of concept identifiers above (list separated by commas)\n",
    "-\tThey will appear in the list with the shopping cart already highlighted\n",
    "-\tClick the descendants checkbox for all entries\n",
    "-\tExit to an upper level, save your cohort\n",
    "-\tCheck the contents of the new concept set definition, include descendants, save\n",
    "-\tExplore the included concepts. Note how including descendants (these are in the included list, but without a highlighted shopping cart icon) has gotten us some rows which would have been otherwise missed\n",
    "\n",
    "\n",
    "- when finished select the concept set for type 1 diabetes in your breadcrumb at the top of the page. ie >T2DM_pnagy2>Type 1 Diabetes Mellitus\n",
    "- Your screen should now look like this.\n",
    "\n",
    "<img src=\"https://bidsclassroomfigures.blob.core.windows.net/figures/ohdsi_4_07.png\" width=600>\n",
    "\n",
    "- Click the descendants checkbox for all entries\n",
    "- Click on the Included Concepts tab to see how these concepts match to our data.\n",
    "-\tSave your cohort\n",
    "\n",
    "<img src=\"https://bidsclassroomfigures.blob.core.windows.net/figures/ohdsi_4_08.png\" width=600>\n",
    "\n",
    "\n",
    "## Q3 How many concepts have entries that match those direct concepts, i.e., \"has records\" is true?\n",
    "\n",
    "\n",
    "\n",
    "\n",
    "\n"
   ]
  },
  {
   "cell_type": "code",
   "execution_count": null,
   "metadata": {
    "id": "ABTLWTRgL94R"
   },
   "outputs": [],
   "source": [
    "sub_ans(student_id,3,#YourAnswer)"
   ]
  },
  {
   "cell_type": "markdown",
   "metadata": {
    "id": "_5qDjebhM3Jb"
   },
   "source": [
    "## Q4 How many concepts have entries in their descendant concepts, i.e., \"has descendent records\" is true?"
   ]
  },
  {
   "cell_type": "code",
   "execution_count": null,
   "metadata": {
    "id": "1q_GoBYdM9T9"
   },
   "outputs": [],
   "source": [
    "sub_ans(student_id,4,#YourAnswer)"
   ]
  },
  {
   "cell_type": "markdown",
   "metadata": {
    "id": "bwsM9UsNNZXq"
   },
   "source": [
    "## Type 2 Diabetes Mellitus Diagnosis\n",
    "\n",
    "a.\tOn Atlas, Let us create a concept set for Type 2 Diabetes Mellitus Diagnosis. An interesting thing about Type 2 Diabetes Mellitus diagnosis is that it should exclude Type 1 Diabetes Mellitus (This may be redundant over the whole logic)\n",
    "-\tClick the “Concept Sets” tab, then click on the “New Concept Set” button\n",
    "-\tIn the field “Name”, type “Type 2 Diabetes Mellitus\" (Note: you can give your concept set any name that can be meaningful to yourself and future readers)\n",
    "-\tOn the left strip, click Search and search for “Type 2 Diabetes Mellitus”.\n",
    "\n",
    "-\tFilter “Clinical Finding”/”Condition”/”Standard/” Toggle between “Has Records” filter and arrange by row count.\n",
    "\n",
    "<img src=\"https://bidsclassroomfigures.blob.core.windows.net/figures/ohdsi_4_14.png\" width=600>\n",
    "\n",
    "## Q5 How many entries are there that have records?"
   ]
  },
  {
   "cell_type": "code",
   "execution_count": null,
   "metadata": {
    "id": "nNkQuYqRdk05"
   },
   "outputs": [],
   "source": [
    "sub_ans(student_id,5,#YourAnswer)"
   ]
  },
  {
   "cell_type": "markdown",
   "metadata": {
    "id": "w5lBjnyTdq9J"
   },
   "source": [
    "## Q6 How many have entries in their descendant records?"
   ]
  },
  {
   "cell_type": "code",
   "execution_count": null,
   "metadata": {
    "id": "1aGanY4WdvJv"
   },
   "outputs": [],
   "source": [
    "sub_ans(student_id,6,#YourAnswer)"
   ]
  },
  {
   "cell_type": "markdown",
   "metadata": {
    "id": "rYdpSX5-dxrB"
   },
   "source": [
    "Add the following concepts to the type 2 diabetes concept set.\n",
    "- 192279, 201826, 376065, 443729, 443732, 443735, 443767\n",
    "- Check all the descendant concepts for each concept.\n",
    "\n",
    "Add the following set of concepts for Exclusion with their descendants.\n",
    "- 195771, 200687, 201254, 201531, 435216, 4224254, 4225656, 4227210, 4228112, 4295011, 37016355\n",
    "\n",
    "Add the following concept for just that concept exclusion.\n",
    "- 376979\n",
    "\n",
    "\n",
    "Your final concept set should like this.\n",
    "<img src=\"https://bidsclassroomfigures.blob.core.windows.net/figures/ohdsi_4_10.png\" width=600>\n",
    "\n",
    "\n",
    "## Q7 How many concepts have record counts for this concept set?"
   ]
  },
  {
   "cell_type": "code",
   "execution_count": null,
   "metadata": {
    "id": "IfW4E0IkfhG4"
   },
   "outputs": [],
   "source": [
    "sub_ans(student_id,7,#YourAnswer)"
   ]
  },
  {
   "cell_type": "markdown",
   "metadata": {
    "id": "BLKTiMWgd1ac"
   },
   "source": [
    "## Q8 How many concepts have descendant record counts for this concept?"
   ]
  },
  {
   "cell_type": "code",
   "execution_count": null,
   "metadata": {
    "id": "dK6gAIVkf3IM"
   },
   "outputs": [],
   "source": [
    "sub_ans(student_id,8,#YourAnswer)"
   ]
  },
  {
   "cell_type": "markdown",
   "metadata": {
    "id": "GeasXrIyghLX"
   },
   "source": [
    "Let's make some cohorts\n",
    "\n",
    "- Go to cohort definition and add an entry event of a diagnosis code for type 2 diabetes\n",
    "- with a 180 day prior observation\n",
    "\n",
    "<img src=\"https://bidsclassroomfigures.blob.core.windows.net/figures/ohdsi_4_11.png\" width=600>\n",
    "\n",
    "## Q9 How many patients have a T2DM Diagnosis?"
   ]
  },
  {
   "cell_type": "code",
   "execution_count": null,
   "metadata": {
    "id": "fsD72LCRg722"
   },
   "outputs": [],
   "source": [
    "sub_ans(student_id,9,#YourAnswer)"
   ]
  },
  {
   "cell_type": "markdown",
   "metadata": {
    "id": "or9fPZg6hHdZ"
   },
   "source": [
    "Let's add an inclusion criteria for patients who have received type 2 diabetes diagnosis on separate visits.\n",
    "\n",
    "<img src=\"https://bidsclassroomfigures.blob.core.windows.net/figures/ohdsi_4_13.png\" width=600>\n",
    "\n",
    "\n",
    "\n",
    "## Q10 How many patients have received a Type 2 DM Diagnosis on separate occurences?"
   ]
  },
  {
   "cell_type": "code",
   "execution_count": null,
   "metadata": {
    "id": "r0e_eH0Cjyv9"
   },
   "outputs": [],
   "source": [
    "sub_ans(student_id,10,#YourAnswer)"
   ]
  },
  {
   "cell_type": "markdown",
   "metadata": {
    "id": "28UsOzKxk797"
   },
   "source": []
  },
  {
   "cell_type": "markdown",
   "metadata": {
    "id": "FojDHAFpj5Xm"
   },
   "source": [
    "For class discussion.  Which number do think is more accurate if we were to do a chart review of all those patients to get a clinical assessment of Type 2 Diabetes?"
   ]
  },
  {
   "cell_type": "markdown",
   "metadata": {
    "id": "IQNfmgEqk426"
   },
   "source": [
    "# **Grade Checker - Check your Progress**\n",
    "\n",
    "Please [click this link](https://XXXXXXXXXX) to check your progress on the assignment."
   ]
  }
 ],
 "metadata": {
  "colab": {
   "provenance": []
  },
  "kernelspec": {
   "display_name": "Python 3",
   "name": "python3"
  },
  "language_info": {
   "name": "python"
  }
 },
 "nbformat": 4,
 "nbformat_minor": 0
}
