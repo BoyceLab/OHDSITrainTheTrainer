{
 "cells": [
  {
   "cell_type": "markdown",
   "metadata": {
    "id": "044FiV_tC10V"
   },
   "source": [
    "\n",
    "# **OHDSI Week 7 Exercise: The 5 pathways of the PheKB Diabetes Type 2 Phenotype**"
   ]
  },
  {
   "cell_type": "markdown",
   "metadata": {
    "id": "N9fx9N3sDDzK"
   },
   "source": [
    "Reminder: We are going to explore building a cohort made up of several concept sets.  There are several ways that someone might be defined as having diabetes, and we will explore 3 of those over the first 3 weeks.  For our purposes in this course, we will consider any patients as having Type 2 diabetes if they:\n",
    "\n",
    "- A.\tHave an HbA1c measurement, fasting or random glucose measurement in a range that suggests diabetes\n",
    "- B.\tHave a diagnosis of Type 2 diabetes and NOT a diagnosis of Type I diabetes.\n",
    "- C.\tAre on a medication for glycemic control\n",
    "\n",
    "This workbook will focus on C.\n",
    "\n",
    "The Atlas tool can be accessed by XXXXLINK.\n",
    "\n",
    "Note: You will need to be inside XXXXENVIRONMENT to use this link as this in our secure environment."
   ]
  },
  {
   "cell_type": "markdown",
   "metadata": {
    "id": "9AxRrUuiC_qc"
   },
   "source": [
    "## Initialize your workbook"
   ]
  },
  {
   "cell_type": "code",
   "execution_count": null,
   "metadata": {
    "id": "-bF-09_ZCuEJ"
   },
   "outputs": [],
   "source": [
    "#This is where participants enter their ID for participation and feedback.\n",
    "student_id=\"\"\n",
    "\n",
    "import requests\n",
    "def sub_ans(team,question_num,answer):\n",
    "    url='https://XXXX'\n",
    "    data={'class':'ohdsi24',\n",
    "         'module':7,\n",
    "         'team':team,\n",
    "         'question_num':question_num,\n",
    "         'answer_num':answer}\n",
    "    x=requests.post(url,data=data)\n",
    "    if x.status_code==200:\n",
    "        return True\n",
    "    else:\n",
    "        return False\n",
    "\n",
    "if student_id != '':\n",
    "  print(\"Success {}, you are ready to go\".format(student_id))"
   ]
  },
  {
   "cell_type": "markdown",
   "metadata": {
    "id": "EWrQccgUIGoP"
   },
   "source": [
    "You should by now have a cohort definition from earlier exercises named T2DM_`student_id`.  You should have 7 concepts sets from the last three classes.\n",
    "\n",
    "1. Type 1 RX\n",
    "2. Type 1 DX\n",
    "3. Type 2 RX\n",
    "4. Type 2 DX\n",
    "5. HbA1C\n",
    "6. Fasting Glucose\n",
    "7. Random Glucose\n",
    "\n",
    "*Please note the concept ids and the descendant relationships*\n",
    "\n",
    "\n",
    "\n",
    "\n"
   ]
  },
  {
   "cell_type": "markdown",
   "metadata": {
    "id": "U9uabw4zV1d5"
   },
   "source": [
    "## This is the moment you have trained for\n",
    "\n",
    "We are going to replicate the entire phekb phenoytpe.\n",
    "\n",
    "Here is an official phenotype for the type 2 diabetes\n",
    "\n",
    "https://www.phekb.org/phenotype/type-2-diabetes-mellitus\n",
    "\n",
    "\n",
    "<img src=\"https://www.phekb.org/sites/phenotype/files/content/t2d_001.png\">\n",
    "\n",
    "Here are the 5 pathways\n",
    "\n",
    "\n",
    "- 1. No T1DM DX > T2DM Dx > No T1DM Med > T2DM Med\n",
    "- 2. No T1DM DX > T2DM Dx > T1DM Med > T2DM Med > T2 Rx < T1 Rx\n",
    "- 3. No T1DM DX > T2DM Dx > T1DM Med > No T2DM Med > 2x T2DM Dx\n",
    "- 4. No T1DM DX > No T2DM Dx > T2DM Med > Abnormal Lab\n",
    "- 5. No T1DM DX > T2DM Dx > No T1DM Med > No T2DM Med > Abnormal Lab\n",
    "\n",
    "\n",
    "Since all the five pathways start with filtering out the T1 DX we are going to add this as an inclusion critiria instead of having to put it into every pathway.\n",
    "<img src=\"INSERT LINK TO ohdsi_6_02.png\" width=800>\n",
    "\n",
    "We are going to add new additional initial events to describe the 5 pathways.\n",
    "\n",
    "\n",
    "\n"
   ]
  },
  {
   "cell_type": "markdown",
   "metadata": {
    "id": "axy_obG5_hZi"
   },
   "source": [
    "## Q1.  How many patients are in pathway 1\n",
    "\n",
    "- **No T1DM DX > T2DM Dx > No T1DM Med > T2DM Med**\n",
    "<table><tr><td>\n",
    "<img src=\"https://bidsclassroomfigures.blob.core.windows.net/figures/ohdsi_6_01.png\" width=800></td></tr>\n",
    "</table>\n",
    "\n",
    "\n"
   ]
  },
  {
   "cell_type": "code",
   "execution_count": null,
   "metadata": {
    "id": "lMqm0-RXXRrS"
   },
   "outputs": [],
   "source": [
    "sub_ans(student_id,1,#YourAnswer)"
   ]
  },
  {
   "cell_type": "markdown",
   "metadata": {
    "id": "GdQL_nqWpRSO"
   },
   "source": [
    "## Q2 How many patients cover the first 2 pathways?\n",
    "\n",
    "- No T1DM DX > T2DM Dx > No T1DM Med > T2DM Med\n",
    "- **No T1DM DX > T2DM Dx > T1DM Med > T2DM Med > T2 Rx < T1 Rx**\n",
    "\n",
    "<img src=\"https://bidsclassroomfigures.blob.core.windows.net/figures/ohdsi_6_03.png\" width=800>\n",
    "\n",
    "\n",
    "**Remember this is a cumulative count**"
   ]
  },
  {
   "cell_type": "code",
   "execution_count": null,
   "metadata": {
    "id": "zwax3P7RALni"
   },
   "outputs": [],
   "source": [
    "sub_ans(student_id,2,#YourAnswer)"
   ]
  },
  {
   "cell_type": "markdown",
   "metadata": {
    "id": "knQ97JGpARJa"
   },
   "source": [
    "## Q3 How many patients cover the first 3 pathways?\n",
    "\n",
    "- 1. No T1DM DX > T2DM Dx > No T1DM Med > T2DM Med\n",
    "- 2. No T1DM DX > T2DM Dx > T1DM Med > T2DM Med > T2 Rx < T1 Rx\n",
    "- **3. No T1DM DX > T2DM Dx > T1DM Med > No T2DM Med > 2x T2DM Dx**\n",
    "\n",
    "<img src=\"https://bidsclassroomfigures.blob.core.windows.net/figures/ohdsi_6_04.png\" width=800>\n",
    "\n",
    "\n",
    "**Remember this is a cumulative count**"
   ]
  },
  {
   "cell_type": "code",
   "execution_count": null,
   "metadata": {
    "id": "7Yr443WDAUSR"
   },
   "outputs": [],
   "source": [
    "sub_ans(student_id,3,#YourAnswer)"
   ]
  },
  {
   "cell_type": "markdown",
   "metadata": {
    "id": "QENrRlMtAWrh"
   },
   "source": [
    "## Q4 How many patients cover the first 4 pathways?\n",
    "\n",
    "- 1. No T1DM DX > T2DM Dx > No T1DM Med > T2DM Med\n",
    "- 2. No T1DM DX > T2DM Dx > T1DM Med > T2DM Med > T2 Rx < T1 Rx\n",
    "- 3. No T1DM DX > T2DM Dx > T1DM Med > No T2DM Med > 2x T2DM Dx\n",
    "- **4. No T1DM DX > No T2DM Dx > T2DM Med > Abnormal Lab**\n",
    "\n",
    "<img src=\"https://bidsclassroomfigures.blob.core.windows.net/figures/ohdsi_6_07.png\" width=800>\n",
    "\n",
    "\n",
    "**Remember this is a cumulative count**"
   ]
  },
  {
   "cell_type": "code",
   "execution_count": null,
   "metadata": {
    "id": "MPe5H_QKAeiK"
   },
   "outputs": [],
   "source": [
    "sub_ans(student_id,4,#YourAnswer)"
   ]
  },
  {
   "cell_type": "markdown",
   "metadata": {
    "id": "_sqBVG6pAlFE"
   },
   "source": [
    "## Q5 How many patients cover all 5 pathways?\n",
    "\n",
    "- 1. No T1DM DX > T2DM Dx > No T1DM Med > T2DM Med\n",
    "- 2. No T1DM DX > T2DM Dx > T1DM Med > T2DM Med > T2 Rx < T1 Rx\n",
    "- 3. No T1DM DX > T2DM Dx > T1DM Med > No T2DM Med > 2x T2DM Dx\n",
    "- 4. No T1DM DX > No T2DM Dx > T2DM Med > Abnormal Lab\n",
    "- **5. No T1DM DX > T2DM Dx > No T1DM Med > No T2DM Med > Abnormal Lab**\n",
    "\n",
    "<img src=\"https://bidsclassroomfigures.blob.core.windows.net/figures/ohdsi_6_08.png\" width=800>\n",
    "\n",
    "\n",
    "**Remember this is a cumulative count**"
   ]
  },
  {
   "cell_type": "code",
   "execution_count": null,
   "metadata": {
    "id": "_1tAEttZCGaK"
   },
   "outputs": [],
   "source": [
    "sub_ans(student_id,5,#YourAnswer)"
   ]
  },
  {
   "cell_type": "markdown",
   "metadata": {
    "id": "ZrR5w_lcCKcN"
   },
   "source": [
    "How many lines of code are in the SQL statement.\n",
    "\n",
    "- Export this cohort definition\n",
    "- Select SQL Template OHDSI.SQL\n",
    "- Copy to Clipboard\n",
    "- Paste this into excel in Safe on the first row\n",
    "\n",
    "## Q6: How many lines of SQL does this cohort definition take?"
   ]
  },
  {
   "cell_type": "code",
   "execution_count": null,
   "metadata": {
    "id": "is_-0u9PDEfT"
   },
   "outputs": [],
   "source": [
    "sub_ans(student_id,6,#YourAnswer)"
   ]
  },
  {
   "cell_type": "markdown",
   "metadata": {
    "id": "s1PAhyKTXp4S"
   },
   "source": [
    "# **Grade Checker - Check your Progress**\n",
    "\n",
    "Please [click this link](XXXXLINK) to check your progress on the exercise."
   ]
  }
 ],
 "metadata": {
  "colab": {
   "provenance": []
  },
  "kernelspec": {
   "display_name": "Python 3",
   "name": "python3"
  },
  "language_info": {
   "name": "python"
  }
 },
 "nbformat": 4,
 "nbformat_minor": 0
}
