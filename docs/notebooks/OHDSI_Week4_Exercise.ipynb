{
  "cells": [
    {
      "cell_type": "markdown",
      "metadata": {
        "id": "044FiV_tC10V"
      },
      "source": [
        "# **OHDSI Week 4 Exercise: Cohort Definitions**"
      ]
    },
    {
      "cell_type": "markdown",
      "metadata": {
        "id": "N9fx9N3sDDzK"
      },
      "source": [
        "In this assessment, we will build off of the measuement concepts we created last week and see how we can assemble cohort definitions with them.\n",
        "\n",
        "The Atlas tool can be accessed by XXXXLINK.\n",
        "\n",
        "Note: You will need to be inside XXXXENVIRONMENT to use this link as this in our secure environment.\n",
        "  "
      ]
    },
    {
      "cell_type": "markdown",
      "metadata": {
        "id": "9AxRrUuiC_qc"
      },
      "source": [
        "## Initialize your workbook"
      ]
    },
    {
      "cell_type": "code",
      "execution_count": null,
      "metadata": {
        "id": "-bF-09_ZCuEJ"
      },
      "outputs": [],
      "source": [
        "import requests\n",
        "def sub_ans(team,question_num,answer):\n",
        "    url='XXXXt.net/submit-answer'\n",
        "    data={'class':'ohdsi24',\n",
        "         'module':4,\n",
        "         'team':team,\n",
        "         'question_num':question_num,\n",
        "         'answer_num':answer}\n",
        "    x=requests.post(url,data=data)\n",
        "    if x.status_code==200:\n",
        "        return True\n",
        "    else:\n",
        "        return False\n",
        "#Enter your student ID Here for participation and feedback.\n",
        "student_id=\"\"\n",
        "if student_id != '':\n",
        "  print(\"Success {}, you are ready to go\".format(student_id))"
      ]
    },
    {
      "cell_type": "markdown",
      "metadata": {
        "id": "EWrQccgUIGoP"
      },
      "source": [
        "You should now have a cohort definition from last week named T2DM_`studentid`.  You should have 3 concepts sets and they should look like the following.  We will use these as building blocks.\n",
        "\n",
        "*Please note the concept ids and the descendant relationships*\n",
        "\n",
        "<table><tr><td>\n",
        "<img src=\"https://XXXX/figures/ohdsi_3_01.png\" width=400></td><td>\n",
        "<table><tr><td><img src=\"https://XXXX//figures/ohdsi_3_02.png\" width=600></td></tr>\n",
        "<tr><td><img src=\"https://XXXX//figures/ohdsi_3_03.png\" width=600></td>\n",
        "<tr><td><img src=\"https://XXXX//ohdsi_3_04.png\" width=600></td>\n",
        "</td></tr></table>\n",
        "\n",
        "\n"
      ]
    },
    {
      "cell_type": "markdown",
      "metadata": {
        "id": "kvsj_a3_LObR"
      },
      "source": [
        "## Let's build a cohort.\n",
        "\n",
        "We are going to see how many patients have the lab tests that we have identified in the concept sets.\n",
        "\n",
        "Go to Cohort Definition and let's add an initial event to add patients into our cohort.\n",
        "\n",
        "<table><Tr><td>\n",
        "<img src=\"https://bidsclassroomfigures.blob.core.windows.net/figures/ohdsi_3_05.png\" width=600></td><td>\n",
        "<img src=\"https://bidsclassroomfigures.blob.core.windows.net/figures/ohdsi_3_06.png\" width=600></td></tr></table>\n",
        "\n",
        "Adding initial events are broken out by domains.  Let's add a measurement event.  Most labs and quantitiative results can be found in the measurements domain.\n",
        "\n",
        "\n",
        "\n",
        "\n",
        "\n"
      ]
    },
    {
      "cell_type": "markdown",
      "metadata": {
        "id": "NTEQ_uAANo5l"
      },
      "source": [
        "## HbA1C Measurement\n",
        "\n",
        "<table>\n",
        "<tr><td><img src=\"https://bidsclassroomfigures.blob.core.windows.net/figures/ohdsi_3_07.png\" width=500></td>\n",
        "</td>\n",
        "<td><table><tr><td><img src=\"https://bidsclassroomfigures.blob.core.windows.net/figures/ohdsi_3_08.png\" width=600></td>\n",
        "</td></tr>\n",
        "</td></tr>\n",
        "</table>\n",
        "</table>\n",
        "\n",
        "- Add the HbA1c Concept set as an entry\n",
        "- Select the save icon on the Cohort definition\n",
        "- Select on the Generation Tab\n",
        "- Select the JH_OMOP_NoId data set (should be the only one available)\n",
        "- Press the generate button (this can take a few minutes)\n",
        "\n",
        "### Q1 How many patients have had an HbA1c test?"
      ]
    },
    {
      "cell_type": "code",
      "execution_count": null,
      "metadata": {
        "id": "N6GiXz7hPQKY"
      },
      "outputs": [],
      "source": [
        "sub_ans(student_id,1,#YourAnswer)"
      ]
    },
    {
      "cell_type": "markdown",
      "metadata": {
        "id": "CuRolAYBPTKu"
      },
      "source": [
        "Let's look for patients with an A1C great than or equal to 6.5.\n",
        "\n",
        "- Go to Add Attribute within the cell block of the measurement\n",
        "- Select Add Value as Number\n",
        "- Select greater than or equal\n",
        "- Enter 6.5\n",
        "\n",
        "\n",
        "<table><tr><td>\n",
        "<table><tr><td><img src=\"https://bidsclassroomfigures.blob.core.windows.net/figures/ohdsi_3_10.png\" width=600></td>\n",
        "</tr><tr><td><img src=\"https://bidsclassroomfigures.blob.core.windows.net/figures/ohdsi_3_18.png\" width=600></tr></tr></table></td>\n",
        "<td>\n",
        "<img src=\"https://i0.wp.com/lysulin.com/wp-content/uploads/2019/10/A1C-Results.png?resize=272%2C568&ssl=1\" width=250></td></tr></table>\n",
        "\n",
        "## Q2 How many patients have an A1C greater than or equal to 6.5?"
      ]
    },
    {
      "cell_type": "code",
      "execution_count": null,
      "metadata": {
        "id": "vrGnBaxpG57Z"
      },
      "outputs": [],
      "source": [
        "sub_ans(student_id,2,#YourAnswer)"
      ]
    },
    {
      "cell_type": "markdown",
      "metadata": {
        "id": "3-2yjo8GG8vF"
      },
      "source": [
        "## Fasting glucose\n",
        "\n",
        "Let's replace the concept set with our fasting glucose one.  Remove any value test.\n",
        "\n",
        "## Q3 How many patients have a fasting glucose test?"
      ]
    },
    {
      "cell_type": "code",
      "execution_count": null,
      "metadata": {
        "id": "n7GKecS3HSRs"
      },
      "outputs": [],
      "source": [
        "sub_ans(student_id,3,#YourAnswer)"
      ]
    },
    {
      "cell_type": "markdown",
      "metadata": {
        "id": "XgI1T9mXHU9V"
      },
      "source": [
        "Now lets add a criteria on the fasting glucose to have a value (as number) of greater than 125.\n",
        "\n",
        "## Q4 How many patients have a fasting glucose test greater than 125?"
      ]
    },
    {
      "cell_type": "code",
      "execution_count": null,
      "metadata": {
        "id": "n2qnlUZbHgoh"
      },
      "outputs": [],
      "source": [
        "sub_ans(student_id,4,#YourAnswer)"
      ]
    },
    {
      "cell_type": "markdown",
      "metadata": {
        "id": "WdHUy7AWHkNz"
      },
      "source": [
        "## Random Glucose Test\n",
        "\n",
        "Let's replace the concep set with our random glucost set.  Remove any value test.\n",
        "\n",
        "## Q5 How many patients have a random glucose test?"
      ]
    },
    {
      "cell_type": "code",
      "execution_count": null,
      "metadata": {
        "id": "STAkFkQBHtRU"
      },
      "outputs": [],
      "source": [
        "sub_ans(student_id,5,#YourAnswer)"
      ]
    },
    {
      "cell_type": "markdown",
      "metadata": {
        "id": "1zeWkYppHwHd"
      },
      "source": [
        "## Q6 How many patients have a random glucose test value greater than 200?"
      ]
    },
    {
      "cell_type": "code",
      "execution_count": null,
      "metadata": {
        "id": "mLlya-MrH2A8"
      },
      "outputs": [],
      "source": [
        "sub_ans(student_id,6,#YourAnswer)"
      ]
    },
    {
      "cell_type": "markdown",
      "metadata": {
        "id": "REvR3zk3H4tF"
      },
      "source": [
        "##  Bring all three tests together together\n",
        "\n",
        "<img src=\"https://bidsclassroomfigures.blob.core.windows.net/figures/ohdsi_3_19.png\" width=600>\n",
        "\n",
        "## Q7 How many patients have any of the three tests with an abnormal value as shown in the figure above?"
      ]
    },
    {
      "cell_type": "code",
      "execution_count": null,
      "metadata": {
        "id": "3lM_g2t8Ipxo"
      },
      "outputs": [],
      "source": [
        "sub_ans(student_id,7,#YourAnswer)"
      ]
    },
    {
      "cell_type": "markdown",
      "metadata": {
        "id": "deVOPwbzJPg2"
      },
      "source": [
        "## Continuous observation periods\n",
        "Let's make sure we have previous data on this patient before they had their abnormal lab test.  Set the continuous observation period of at least 180 days before the measurement event.\n",
        "\n",
        "\n",
        "<img src=\"https://api.thehyve.nl/uploads/OMOP-observation-period.png\" width=600>\n",
        "\n",
        "Good discussion on [observation period vs continuous observation](https://forums.ohdsi.org/t/continous-observation-vs-observation-period/14228/3)\n",
        "\n",
        "<img src=\"https://bidsclassroomfigures.blob.core.windows.net/figures/ohdsi_3_16.png\" width=600>\n",
        "\n",
        "## Q8 How many patients have with an abnormal test have a previous observation of 180 days?"
      ]
    },
    {
      "cell_type": "code",
      "execution_count": null,
      "metadata": {
        "id": "AvHGHKh6KkAQ"
      },
      "outputs": [],
      "source": [
        "sub_ans(student_id,8,#YourAnswer)"
      ]
    },
    {
      "cell_type": "markdown",
      "metadata": {
        "id": "YfMdxnJTKnTM"
      },
      "source": [
        "## Inclusion Criteria\n",
        "\n",
        "Let's add an inclusion criteria that filters for patients greater than or equal to 18 years of age.\n",
        "<table><tr><td>\n",
        "<img src=\"https://bidsclassroomfigures.blob.core.windows.net/figures/ohdsi_3_14.png\" width=250></td><td>\n",
        "<img src=\"https://bidsclassroomfigures.blob.core.windows.net/figures/ohdsi_3_21.png\" width=600></td></tr></table>\n",
        "\n",
        "## Q9 How many patients with an abnormal lab test and a 180 day continuous previous observation period are 18 years of age or older?"
      ]
    },
    {
      "cell_type": "code",
      "execution_count": null,
      "metadata": {
        "id": "1Fc1JB28LQk9"
      },
      "outputs": [],
      "source": [
        "sub_ans(student_id,9,#YourAnswer)"
      ]
    },
    {
      "cell_type": "markdown",
      "metadata": {
        "id": "cpUq1CToLTi9"
      },
      "source": [
        "## One more inclusion Criteria\n",
        "\n",
        "<img src=\"https://bidsclassroomfigures.blob.core.windows.net/figures/ohdsi_3_17.png\" width=600>\n",
        "\n",
        "- Add a new demographic inclusion criteria\n",
        "- Select gender\n",
        "- Scroll until you find F Female concep code `8532`\n",
        "- Select and Add Selected\n",
        "- Close\n",
        "\n",
        "## Q10 How many patients also are female.  "
      ]
    },
    {
      "cell_type": "code",
      "execution_count": null,
      "metadata": {
        "id": "ABTLWTRgL94R"
      },
      "outputs": [],
      "source": [
        "sub_ans(student_id,10,#YourAnswer)"
      ]
    },
    {
      "cell_type": "markdown",
      "metadata": {
        "id": "wf6RelccMApX"
      },
      "source": [
        "## Cohort Generation\n",
        "\n",
        "- Select view reports in the Generation tab\n",
        "- see the heat map of how the inclusion criteria filtered your initial population"
      ]
    },
    {
      "cell_type": "markdown",
      "metadata": {
        "id": "WR6B3CS905t3"
      },
      "source": [
        "# **Grade Checker - Check your Progress**\n",
        "\n",
        "Please [click this link](XXXXXXXXX) to check your progress on the assignment."
      ]
    }
  ],
  "metadata": {
    "colab": {
      "provenance": []
    },
    "kernelspec": {
      "display_name": "Python 3",
      "name": "python3"
    },
    "language_info": {
      "name": "python"
    }
  },
  "nbformat": 4,
  "nbformat_minor": 0
}
