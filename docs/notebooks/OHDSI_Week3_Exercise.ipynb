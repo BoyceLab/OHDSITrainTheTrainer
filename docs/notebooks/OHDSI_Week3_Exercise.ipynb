{
  "cells": [
    {
      "cell_type": "markdown",
      "metadata": {
        "id": "UGwi6AWzove8"
      },
      "source": [
        "\n",
        "# OHDSI Week 3 Exercise:  Introduction to Atlas\n",
        "\n",
        "Today we are going to do some hands on exploring using the Atlas tool, which can be accessed from within your SAFE desktop using this link.  \n",
        "The Atlas tool can be accessed by XXXXLINK.\n",
        "\n",
        "**Note: You will need to be inside XXXXENVIRONMENT to use this link as this in our secure environment.**\n",
        "\n",
        "\n",
        "We are going to explore building a cohort comprised of several concept sets.  There are a number of ways that someone might be defined as having diabetes, and we will explore 3 of those over the next 3 weeks.  For our purposes in this course, we will consider any patients as having Type 2 diabetes if they:\n",
        "- A.\tHave an HbA1c measurement, fasting or random glucose measurement in a range that suggests diabetes\n",
        "- B.\tHave a diagnosis of Type 2 diabetes and NOT a diagnosis of Type I diabetes.\n",
        "- C.\tAre on a medication for glycemic control\n",
        "\n",
        "In each case, we will perform the steps to find related concepts to include in our definition of Type 2 diabetes mellitus. Typically, after that step in a real use case scenarios or research, there would be a deep consultative thought process: the clinical/research team building this cohort would consider regarding which of the concepts to include, other concepts to add, etc. We are going to jump over that consultative step for this course. We will refer to \"PheKB: a catalog and workflow for creating electronic phenotype algorithms for transportability \" (paper: https://pubmed.ncbi.nlm.nih.gov/27026615/  ; website: https://phekb.org/) to give final concept lists to include into our definition.\n",
        "\n",
        "  "
      ]
    },
    {
      "cell_type": "markdown",
      "metadata": {
        "id": "CunsPb3uMTD7"
      },
      "source": [
        "## Initialize your workbook\n",
        "\n",
        "Make sure to enter you student_id in the cell below and press ctrl-enter when the cell is in focus."
      ]
    },
    {
      "cell_type": "markdown",
      "metadata": {
        "id": "bb8BvnM0Zeql"
      },
      "source": [
        "## Create a cohort definition\n",
        "1.\tBased on our exercise in Athena, we will continue to explore concept IDs for each of the bullet points above, and build concept sets in Atlas.\n",
        "2.\tCreate a cohort named T2DM_student (\"student” is your student ID so that every student has a unique cohort)\n",
        "- a.\tOn the left strip click “cohort definitions”\n",
        "- b.\tClose to the top right of the page, find and click the “New Cohort” button\n",
        "- c.\tIn the field “New cohort definition” type in your cohort name.\n",
        "- d. Click the green save icon at the end of that field\n",
        "\n",
        "**Note: From here you can create concept sets and still stay within your cohort definition.**\n",
        "\n",
        "\n"
      ]
    },
    {
      "cell_type": "markdown",
      "metadata": {
        "id": "JfNtuTbaNn5n"
      },
      "source": [
        "## Hemoglobin A1c measurement\n",
        "- a.\tFrom within you cohort defintion, click the “Concept Sets” tab, then click on the “New Concept Set” button\n",
        "- b.\tIn the field “Name”, type “HbA1c Measurement” (Note: you can give your concept set any name that can be meaningful to yourself and future readers)\n",
        " - c.\tGo to the bottom of the page and click \"Add Concepts\" (Note: Even though this search will be global, selections from there will only apply to this current concept set nested in this current cohort)\n",
        "- d.\tIn the search field that appears, type “Hemoglobin A1c”, click the blue lens icon at the end of the field to submit the search.\n",
        "- e.\tA list of concepts appears, and to its left, a list of filters appears.\n",
        "- f.\tYou can choose Vocabulary: LOINC; Class: Lab test; Domain: Measurement; Standard Concept: Standard; Invalid Reason: Valid (Note this is a redundant number of filters, you can choose fewer)\n",
        "- g.\tOn the table of concepts click on “RC” (maybe twice) to get a count of rows in descending order. (Note: “DRC” is descendent row count. In future exercises this may differ from row count)\n",
        "- h.\tHow many concepts have any nonzero rows in the database?\n",
        "\n",
        "*Note: if no record counts are returned for any concept, try reloading by clicking the search button again and reapplying the filters.*\n",
        "\n",
        "\n",
        "\n"
      ]
    },
    {
      "cell_type": "code",
      "execution_count": null,
      "metadata": {
        "colab": {
          "base_uri": "https://localhost:8080/"
        },
        "id": "Exu5BlWFSeRE",
        "outputId": "c0cf637b-97b2-463a-8ea7-7bb7c5a23045"
      },
      "outputs": [
        {
          "data": {
            "text/plain": [
              "True"
            ]
          },
          "execution_count": 2,
          "metadata": {},
          "output_type": "execute_result"
        }
      ],
      "source": [
        "sub_ans(userid,1,#Answer)"
      ]
    },
    {
      "cell_type": "markdown",
      "metadata": {
        "id": "B96a1sZ6abiD"
      },
      "source": [
        "Q2. What OMOP id code has the singlest highest count?"
      ]
    },
    {
      "cell_type": "code",
      "execution_count": null,
      "metadata": {
        "colab": {
          "base_uri": "https://localhost:8080/"
        },
        "id": "ahpskx9nacTs",
        "outputId": "3546af33-9ef5-424c-c0ef-821a3d874669"
      },
      "outputs": [
        {
          "data": {
            "text/plain": [
              "True"
            ]
          },
          "execution_count": 3,
          "metadata": {},
          "output_type": "execute_result"
        }
      ],
      "source": [
        "sub_ans(student_id,2,#Answer)"
      ]
    },
    {
      "cell_type": "markdown",
      "metadata": {
        "id": "HlM8iJaBaYtE"
      },
      "source": [
        "- i.\tClick the box icons to the left of each of these concepts to select them.PheKB addition: In addition, even though there is 0 row count, include the concept 3007263. Scroll down and click \"Add To Concept Set\" at the bottom of the page. This will add all selected concepts to the current concept set.\n",
        "- j.\tClick \"Cohort Definitions\" on the left sidebar to return to your cohort definition – save the cohort definition by clicking the green save button in the top right of the page.\n",
        "- k.\tClick the concept sets tab and confirm that the HbA1c concept set is now populated with 4 concepts.\n",
        "- l.\tClick the descendants check marks near the concepts. (Note: This is redundant for the current concept set.)\n",
        "- m.\tSave the cohort.\n",
        "- n.\tWarnings/messages appear, we can take a look at them, but not act on them at this stage\n",
        "\n",
        "😅 Great job, you have created your first concept set!"
      ]
    },
    {
      "cell_type": "markdown",
      "metadata": {
        "id": "nQwTS5INSeyw"
      },
      "source": [
        "## \tFasting Glucose Measurement\n",
        "- a.\tClick the “Concept Sets” tab, then click on the “New Concept Set” button\n",
        "- b.\tIn the field “Name”, type “Fasting Glucose Measurement” (Note: you can give your concept set any name that can be meaningful to yourself and future readers)\n",
        "- c.\tGo to the left strip and click on “Search” (Note: the top of the page gives the name of your cohort and the current concept set. Even though this search will be global, selections from there will only apply to this current concept set nested in this current cohort)\n",
        "- d.\tIn the search field that appears, type “Fasting Glucose”, click the blue lens icon at the end of the field to submit the search.\n",
        "- e.\tA list of concepts appears, and to its left, a list of filters appears.\n",
        "- f.\tYou can choose Vocabulary: LOINC; Class: Lab test; Domain: Measurement; Standard Concept: Standard; Invalid Reason: Valid (Note this is a redundant number of filters, you can choose fewer)\n",
        "- g.\tOn the table of concepts click on “RC” (if needed, maybe twice) to get a count of rows in descending order. (Note: “DRC” is descendent row count. In future exercises this may differ from row count)\n",
        "- h.\tYou should find only one concept that has counts.  **What is the concept id?**\n",
        "\n",
        "*Note: if no record counts are returned for any concept, try reloading by clicking the search button again and reapplying the filters.*\n"
      ]
    },
    {
      "cell_type": "code",
      "execution_count": null,
      "metadata": {
        "colab": {
          "base_uri": "https://localhost:8080/"
        },
        "id": "Pf1XafcbSuOg",
        "outputId": "4f4e31c7-c23c-4c34-cb51-ffc1eef9d13b"
      },
      "outputs": [
        {
          "data": {
            "text/plain": [
              "True"
            ]
          },
          "execution_count": 4,
          "metadata": {},
          "output_type": "execute_result"
        }
      ],
      "source": [
        "sub_ans(student_id,3,#Answer)"
      ]
    },
    {
      "cell_type": "markdown",
      "metadata": {
        "id": "1Xmv68hRcFao"
      },
      "source": [
        "- How many counts did you get? (This is record counts, so use the number under \"RC\")"
      ]
    },
    {
      "cell_type": "code",
      "execution_count": null,
      "metadata": {
        "colab": {
          "base_uri": "https://localhost:8080/"
        },
        "id": "eLB84ZancIeo",
        "outputId": "2090b38b-6874-4677-b7f3-54e03874f2e1"
      },
      "outputs": [
        {
          "data": {
            "text/plain": [
              "False"
            ]
          },
          "execution_count": 12,
          "metadata": {},
          "output_type": "execute_result"
        }
      ],
      "source": [
        "sub_ans(student_id,4,#Answer)"
      ]
    },
    {
      "cell_type": "markdown",
      "metadata": {
        "id": "8Rj0pxFkbsFV"
      },
      "source": [
        "- *This one corresponds to the PheKB definition, no additions/subtractions needed. If your answer did not correspond with the PheKB (of course, a clinical consensus suggests that reasonable people may differ before coming to consensus, we will provide you with the short list of concept IDs to include)*\n",
        "- i.\tClick the box icons to the left of each of these concepts, this will include them in the current concept set\n",
        "- j.\tScroll up and click on your cohort name close to the top of the page – save the cohort definition\n",
        "- k.\tClick the concept set and confirm that it is now populated with one concept.\n",
        "- l.\tClick the descendants check marks near the concept. (Note: This is redundant for the current concept set.)\n",
        "- m.\tSave the cohort."
      ]
    },
    {
      "cell_type": "markdown",
      "metadata": {
        "id": "PWsipmPySvI_"
      },
      "source": [
        "##  Random Glucose Measurement\n",
        "\n",
        "(“random is often “unspecified as fasting”, but this has to be in blood, serum or plasma – not capillary blood stick. Our definition is in terms of mass/volume of blood)\n",
        "- a.\tClick the “Concept Sets” tab, then click on the “New Concept Set” button\n",
        "- b.\tIn the field “Name”, type “Random Glucose Measurement” (Note: you can give your concept set any name that can be meaningful to yourself and future readers)\n",
        "- c.\tGo to the left strip and click on “Search” (Note: the top of the page gives the name of your cohort and the current concept set. Even though this search will be global, selections from there will only apply to this current concept set nested in this current cohort)\n",
        "- d.\tIn the search field that appears, type \"Glucose”, click the blue lens icon at the end of the field to submit the search.\n",
        "- e.\tA list of concepts appears, and to its left, a list of filters appears.\n",
        "- f. Choose Vocabulary: LOINC; Class: Lab test; Domain: Measurement; Standard Concept: Standard; Invalid Reason: Valid (Note this is a redundant number of filters, you can choose fewer)\n",
        "- g.\tOn the table of concepts click on “RC” (if needed, maybe twice) to get a count of rows in descending order. (Note: “DRC” is descendent row count. In future exercises this may differ from row count)\n",
        "- h.\tHow many concepts have any nonzero rows in the database?\n",
        "\n",
        "*Note: if no record counts are returned for any concept, try reloading by clicking the search button again and reapplying the filters.*\n",
        "\n"
      ]
    },
    {
      "cell_type": "code",
      "execution_count": null,
      "metadata": {
        "colab": {
          "base_uri": "https://localhost:8080/"
        },
        "id": "aVC3rnmccb8_",
        "outputId": "ac363966-2e00-4986-87f6-0e40683acf65"
      },
      "outputs": [
        {
          "data": {
            "text/plain": [
              "False"
            ]
          },
          "execution_count": 11,
          "metadata": {},
          "output_type": "execute_result"
        }
      ],
      "source": [
        "sub_ans(student_id,5,#Answer)"
      ]
    },
    {
      "cell_type": "markdown",
      "metadata": {
        "id": "3azRCme6ccow"
      },
      "source": [
        "- i. Our definition is in terms of mass/volume of blood (not capillary blood stick). This also cannot be a part of a multi-hour series of blood tests (tolerance tests),  cannot be fasting.  \n",
        "- - concepts to include: 3004501 and 3000483.\n",
        "- - *This list corresponds to the PheKB definition, no additions/subtractions needed. If your answer did not correspond with the PheKB (of course, a clinical consensus suggests that reasonable people may differ before coming to consensus, we will provide you with the short list of concept IDs to include)*\n",
        "- - How many counts do those two concepts cover?\n"
      ]
    },
    {
      "cell_type": "code",
      "execution_count": null,
      "metadata": {
        "colab": {
          "base_uri": "https://localhost:8080/"
        },
        "id": "wWqFk2U1dhcJ",
        "outputId": "548cb338-c094-4f5a-880f-ebcc66a5a220"
      },
      "outputs": [
        {
          "data": {
            "text/plain": [
              "False"
            ]
          },
          "execution_count": 10,
          "metadata": {},
          "output_type": "execute_result"
        }
      ],
      "source": [
        "sub_ans(student_id,6,#Answser)"
      ]
    },
    {
      "cell_type": "markdown",
      "metadata": {
        "id": "5lK4fXIEdiAu"
      },
      "source": [
        "- j.\tClick the box icons to the left of each of these concepts, this will include them in the current concept set\n",
        "- k.\tScroll up and click on your cohort name close to the top of the page – save the cohort definition\n",
        "- l.\tClick the concept set and confirm that it is now populated with two concepts.\n",
        "- m.\tClick the descendants check marks near the concept. (Note: This is redundant for the current concept set.)\n",
        "- n.\tSave the cohort."
      ]
    },
    {
      "cell_type": "markdown",
      "metadata": {
        "id": "FRwGv2xc4_iv"
      },
      "source": [
        "# **Grade Checker - Check your Progress**\n",
        "\n",
        "Please [click this link](https://bids-class.azurewebsites.net/exercise-review) to check your progress on the assignment."
      ]
    },
    {
      "cell_type": "markdown",
      "metadata": {
        "id": "VQcQf9eHeA7r"
      },
      "source": [
        "# Congratulations, you have now built 3 important building blocks in a cohort defintion!"
      ]
    }
  ],
  "metadata": {
    "colab": {
      "provenance": []
    },
    "kernelspec": {
      "display_name": "Python 3",
      "language": "python",
      "name": "python3"
    },
    "language_info": {
      "codemirror_mode": {
        "name": "ipython",
        "version": 3
      },
      "file_extension": ".py",
      "mimetype": "text/x-python",
      "name": "python",
      "nbconvert_exporter": "python",
      "pygments_lexer": "ipython3",
      "version": "3.8.5"
    }
  },
  "nbformat": 4,
  "nbformat_minor": 0
}
